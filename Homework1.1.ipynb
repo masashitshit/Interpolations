{
 "cells": [
  {
   "cell_type": "code",
   "execution_count": 45,
   "metadata": {
    "collapsed": true
   },
   "outputs": [],
   "source": [
    "#課題1　修正版　　高橋　雅士　\n",
    "#関数の定義はここ　https://github.com/masashitshit/Interpolations.jl/blob/master/src/Interpolations.jl\")\n",
    "using Interpolations"
   ]
  },
  {
   "cell_type": "code",
   "execution_count": 67,
   "metadata": {
    "collapsed": false
   },
   "outputs": [
    {
     "data": {
      "text/plain": [
       "2-element Array{Float64,1}:\n",
       " 2.0\n",
       " 0.0"
      ]
     },
     "execution_count": 67,
     "metadata": {},
     "output_type": "execute_result"
    }
   ],
   "source": [
    "grid = [1.0,2.0]\n",
    "vals = [2.0,0]"
   ]
  },
  {
   "cell_type": "code",
   "execution_count": 68,
   "metadata": {
    "collapsed": false
   },
   "outputs": [
    {
     "data": {
      "text/plain": [
       "(::funfun) (generic function with 1 method)"
      ]
     },
     "execution_count": 68,
     "metadata": {},
     "output_type": "execute_result"
    }
   ],
   "source": [
    "f = linerinterp(grid,vals)"
   ]
  },
  {
   "cell_type": "code",
   "execution_count": 69,
   "metadata": {
    "collapsed": false
   },
   "outputs": [
    {
     "data": {
      "text/html": [
       "1.5"
      ],
      "text/plain": [
       "1.5"
      ]
     },
     "execution_count": 69,
     "metadata": {},
     "output_type": "execute_result"
    }
   ],
   "source": [
    "f(1.25)"
   ]
  },
  {
   "cell_type": "code",
   "execution_count": 70,
   "metadata": {
    "collapsed": false
   },
   "outputs": [],
   "source": [
    "using Plots"
   ]
  },
  {
   "cell_type": "code",
   "execution_count": 71,
   "metadata": {
    "collapsed": false
   },
   "outputs": [
    {
     "data": {
      "text/plain": [
       "Plots.PlotlyJSBackend()"
      ]
     },
     "execution_count": 71,
     "metadata": {},
     "output_type": "execute_result"
    }
   ],
   "source": [
    "plotlyjs()"
   ]
  },
  {
   "cell_type": "code",
   "execution_count": 85,
   "metadata": {
    "collapsed": false
   },
   "outputs": [
    {
     "data": {
      "text/html": [
       "<div id=\"de8002a1-6a1c-4df0-8cf5-9d93c6f6eb76\" class=\"plotly-graph-div\"></div>\n",
       "\n",
       "<script>\n",
       "    window.PLOTLYENV=window.PLOTLYENV || {};\n",
       "    window.PLOTLYENV.BASE_URL=\"https://plot.ly\";\n",
       "    require(['plotly'], function(Plotly) {\n",
       "        Plotly.newPlot('de8002a1-6a1c-4df0-8cf5-9d93c6f6eb76', [{\"yaxis\":\"y\",\"y\":[-0.6569865987187891,-0.5784397643882002,-0.49411335113860816,-0.4048499206165983,-0.31154136351337786,-0.21511998808781552,-0.11654920485049364,-0.016813900484349713,0.0830894028174964,0.18216250427209588,0.27941549819892586,0.373876664830236,0.46460217941375737,0.5506855425976376,0.6312666378723216,0.7055403255703919,0.7727644875559871,0.8322674422239013,0.8834546557201531,0.9258146823277325,0.9589242746631385,0.9824526126243325,0.9961646088358407,0.9999232575641008,0.9936910036334644,0.977530117665097,0.9516020738895161,0.9161659367494549,0.8715757724135882,0.8182771110644103,0.7568024953079282,0.6877661591839738,0.6118578909427189,0.5298361409084934,0.44252044329485246,0.35078322768961984,0.2555411020268312,0.1577456941432482,0.058374143427580086,-0.04158066243329049,-0.1411200080598672,-0.23924932921398243,-0.3349881501559051,-0.4273798802338298,-0.5155013718214642,-0.5984721441039564,-0.675463180551151,-0.7457052121767203,-0.8084964038195901,-0.8632093666488737,-0.9092974268256817,-0.9463000876874145,-0.9738476308781951,-0.9916648104524686,-0.9995736030415051,-0.9974949866040544,-0.9854497299884601,-0.963558185417193,-0.9320390859672263,-0.8912073600614354,-0.8414709848078965,-0.7833269096274834,-0.7173560908995228,-0.644217687237691,-0.5646424733950354,-0.479425538604203,-0.3894183423086505,-0.29552020666133955,-0.19866933079506122,-0.09983341664682815,0.0,0.09983341664682815,0.19866933079506122,0.29552020666133955,0.3894183423086505,0.479425538604203,0.5646424733950354,0.644217687237691,0.7173560908995228,0.7833269096274834,0.8414709848078965,0.8912073600614354,0.9320390859672263,0.963558185417193,0.9854497299884601,0.9974949866040544,0.9995736030415051,0.9916648104524686,0.9738476308781951,0.9463000876874145,0.9092974268256817,0.8632093666488737,0.8084964038195901,0.7457052121767203,0.675463180551151,0.5984721441039564,0.5155013718214642,0.4273798802338298,0.3349881501559051,0.23924932921398243,0.1411200080598672,0.04158066243329049,-0.058374143427580086,-0.1577456941432482,-0.2555411020268312,-0.35078322768961984,-0.44252044329485246,-0.5298361409084934,-0.6118578909427189,-0.6877661591839738,-0.7568024953079282,-0.8182771110644103,-0.8715757724135882,-0.9161659367494549,-0.9516020738895161,-0.977530117665097,-0.9936910036334644,-0.9999232575641008,-0.9961646088358407,-0.9824526126243325,-0.9589242746631385,-0.9258146823277325,-0.8834546557201531,-0.8322674422239013,-0.7727644875559871,-0.7055403255703919,-0.6312666378723216,-0.5506855425976376,-0.46460217941375737,-0.373876664830236,-0.27941549819892586,-0.18216250427209588,-0.0830894028174964,0.016813900484349713,0.11654920485049364,0.21511998808781552,0.31154136351337786,0.4048499206165983,0.49411335113860816,0.5784397643882002,0.6569865987187891],\"showlegend\":true,\"name\":\"sine function\",\"type\":\"scatter\",\"xaxis\":\"x\",\"line\":{\"width\":1,\"dash\":\"solid\",\"color\":\"rgba(0, 154, 250, 1.000)\",\"shape\":\"linear\"},\"colorbar\":{\"title\":\"\"},\"x\":[-7.0,-6.9,-6.8,-6.7,-6.6,-6.5,-6.4,-6.3,-6.2,-6.1,-6.0,-5.9,-5.8,-5.7,-5.6,-5.5,-5.4,-5.3,-5.2,-5.1,-5.0,-4.9,-4.8,-4.7,-4.6,-4.5,-4.4,-4.3,-4.2,-4.1,-4.0,-3.9,-3.8,-3.7,-3.6,-3.5,-3.4,-3.3,-3.2,-3.1,-3.0,-2.9,-2.8,-2.7,-2.6,-2.5,-2.4,-2.3,-2.2,-2.1,-2.0,-1.9,-1.8,-1.7,-1.6,-1.5,-1.4,-1.3,-1.2,-1.1,-1.0,-0.9,-0.8,-0.7,-0.6,-0.5,-0.4,-0.3,-0.2,-0.1,0.0,0.1,0.2,0.3,0.4,0.5,0.6,0.7,0.8,0.9,1.0,1.1,1.2,1.3,1.4,1.5,1.6,1.7,1.8,1.9,2.0,2.1,2.2,2.3,2.4,2.5,2.6,2.7,2.8,2.9,3.0,3.1,3.2,3.3,3.4,3.5,3.6,3.7,3.8,3.9,4.0,4.1,4.2,4.3,4.4,4.5,4.6,4.7,4.8,4.9,5.0,5.1,5.2,5.3,5.4,5.5,5.6,5.7,5.8,5.9,6.0,6.1,6.2,6.3,6.4,6.5,6.6,6.7,6.8,6.9,7.0],\"mode\":\"lines\"},{\"yaxis\":\"y\",\"y\":[-0.6569865987187891,0.27941549819892586,0.9589242746631385,0.7568024953079282,-0.1411200080598672,-0.9092974268256817,-0.8414709848078965,0.0,0.8414709848078965,0.9092974268256817,0.1411200080598672,-0.7568024953079282,-0.9589242746631385,-0.27941549819892586,0.6569865987187891],\"showlegend\":true,\"name\":\"sampled data\",\"type\":\"scatter\",\"xaxis\":\"x\",\"colorbar\":{\"title\":\"\"},\"x\":[-7,-6,-5,-4,-3,-2,-1,0,1,2,3,4,5,6,7],\"mode\":\"markers\",\"marker\":{\"symbol\":\"circle\",\"line\":{\"width\":1,\"color\":\"rgba(0, 0, 0, 1.000)\"},\"size\":8,\"color\":\"rgba(227, 111, 71, 1.000)\"}}],\n",
       "               {\"yaxis\":{\"type\":\"-\",\"titlefont\":{\"size\":15,\"color\":\"rgba(0, 0, 0, 1.000)\",\"family\":\"sans-serif\"},\"title\":\"\",\"tickfont\":{\"size\":11,\"color\":\"rgba(0, 0, 0, 1.000)\",\"family\":\"sans-serif\"},\"ticks\":\"inside\",\"tickmode\":\"array\",\"showgrid\":true,\"tickvals\":[-1.0,0.0,1.0],\"domain\":[0.03762029746281716,0.9901574803149606],\"ticktext\":[\"-1\",\"0\",\"1\"],\"tickangle\":0,\"zeroline\":false,\"linecolor\":\"rgba(0, 0, 0, 1.000)\",\"tickcolor\":\"rgba(0, 0, 0, 1.000)\",\"anchor\":\"x\"},\"annotations\":[],\"width\":600,\"plot_bgcolor\":\"rgba(255, 255, 255, 1.000)\",\"showlegend\":true,\"legend\":{\"bgcolor\":\"rgba(255, 255, 255, 1.000)\",\"y\":1.0,\"font\":{\"size\":11,\"color\":\"rgba(0, 0, 0, 1.000)\",\"family\":\"sans-serif\"},\"bordercolor\":\"rgba(0, 0, 0, 1.000)\",\"x\":1.0},\"xaxis\":{\"type\":\"-\",\"titlefont\":{\"size\":15,\"color\":\"rgba(0, 0, 0, 1.000)\",\"family\":\"sans-serif\"},\"title\":\"\",\"tickfont\":{\"size\":11,\"color\":\"rgba(0, 0, 0, 1.000)\",\"family\":\"sans-serif\"},\"ticks\":\"inside\",\"tickmode\":\"array\",\"showgrid\":true,\"tickvals\":[-5.0,0.0,5.0],\"domain\":[0.03619130941965587,0.9934383202099738],\"ticktext\":[\"-5\",\"0\",\"5\"],\"tickangle\":0,\"zeroline\":false,\"linecolor\":\"rgba(0, 0, 0, 1.000)\",\"tickcolor\":\"rgba(0, 0, 0, 1.000)\",\"anchor\":\"y\"},\"paper_bgcolor\":\"rgba(255, 255, 255, 1.000)\",\"margin\":{\"r\":0,\"l\":0,\"b\":20,\"t\":20},\"height\":400}, {showLink: false});\n",
       "\n",
       "    });\n",
       " </script>\n"
      ]
     },
     "execution_count": 85,
     "metadata": {},
     "output_type": "execute_result"
    }
   ],
   "source": [
    "grid = -7:7    # x points, coase grid\n",
    "vals = sin.(grid)  # corresponding y points\n",
    "\n",
    "grid2 = -7:0.1:7  # fine grid\n",
    "plot(grid2, sin.(grid2), label=\"sine function\")\n",
    "scatter!(grid, vals, label=\"sampled data\", markersize=4)"
   ]
  },
  {
   "cell_type": "code",
   "execution_count": 80,
   "metadata": {
    "collapsed": false
   },
   "outputs": [
    {
     "data": {
      "text/plain": [
       "-7.0:0.1:7.0"
      ]
     },
     "execution_count": 80,
     "metadata": {},
     "output_type": "execute_result"
    }
   ],
   "source": [
    "grid = -7:7    # x points, coase grid\n",
    "vals = sin.(grid)  # corresponding y points\n",
    "grid2 = -7:0.1:7  # fine grid"
   ]
  },
  {
   "cell_type": "code",
   "execution_count": 87,
   "metadata": {
    "collapsed": false
   },
   "outputs": [
    {
     "data": {
      "text/plain": [
       "(::funfun) (generic function with 1 method)"
      ]
     },
     "execution_count": 87,
     "metadata": {},
     "output_type": "execute_result"
    }
   ],
   "source": [
    "using QuantEcon\n",
    "\n",
    "li = linerinterp(grid,vals)        # create LinInterp object                     \n",
    "                                    # evaluate at a single point"
   ]
  },
  {
   "cell_type": "code",
   "execution_count": 117,
   "metadata": {
    "collapsed": false
   },
   "outputs": [
    {
     "data": {
      "text/html": [
       "-0.9387120967276175"
      ],
      "text/plain": [
       "-0.9387120967276175"
      ]
     },
     "execution_count": 117,
     "metadata": {},
     "output_type": "execute_result"
    }
   ],
   "source": [
    "li(4.9)"
   ]
  },
  {
   "cell_type": "code",
   "execution_count": 112,
   "metadata": {
    "collapsed": false
   },
   "outputs": [
    {
     "ename": "LoadError",
     "evalue": "BoundsError: attempt to access 15-element Array{Float64,1} at index [16]",
     "output_type": "error",
     "traceback": [
      "BoundsError: attempt to access 15-element Array{Float64,1} at index [16]",
      "",
      " in (::#funfun#1{UnitRange{Int64},Array{Float64,1}})(::Float64) at .\\In[27]:21",
      " in collect_to!(::Array{Float64,1}, ::Base.Generator{FloatRange{Float64},#funfun#1{UnitRange{Int64},Array{Float64,1}}}, ::Int64, ::Int64) at .\\array.jl:340",
      " in collect_to_with_first!(::Array{Float64,1}, ::Float64, ::Base.Generator{FloatRange{Float64},#funfun#1{UnitRange{Int64},Array{Float64,1}}}, ::Int64) at .\\array.jl:327",
      " in _collect(::FloatRange{Float64}, ::Base.Generator{FloatRange{Float64},#funfun#1{UnitRange{Int64},Array{Float64,1}}}, ::Base.EltypeUnknown, ::Base.HasShape) at .\\array.jl:321",
      " in compute_xyz(::FloatRange{Float64}, ::Function, ::Void) at C:\\Users\\Masashi Takahashi\\.julia\\v0.5\\Plots\\src\\series.jl:93",
      " in macro expansion at C:\\Users\\Masashi Takahashi\\.julia\\v0.5\\Plots\\src\\series.jl:150 [inlined]",
      " in apply_recipe(::Dict{Symbol,Any}, ::Type{Plots.SliceIt}, ::FloatRange{Float64}, ::Function, ::Void) at C:\\Users\\Masashi Takahashi\\.julia\\v0.5\\RecipesBase\\src\\RecipesBase.jl:238",
      " in _process_userrecipes(::Plots.Plot{Plots.PlotlyJSBackend}, ::Dict{Symbol,Any}, ::Tuple{FloatRange{Float64},#funfun#1{UnitRange{Int64},Array{Float64,1}}}) at C:\\Users\\Masashi Takahashi\\.julia\\v0.5\\Plots\\src\\pipeline.jl:73",
      " in _plot!(::Plots.Plot{Plots.PlotlyJSBackend}, ::Dict{Symbol,Any}, ::Tuple{FloatRange{Float64},#funfun#1{UnitRange{Int64},Array{Float64,1}}}) at C:\\Users\\Masashi Takahashi\\.julia\\v0.5\\Plots\\src\\plot.jl:171",
      " in #plot#263(::Array{Any,1}, ::Function, ::FloatRange{Float64}, ::Vararg{Any,N}) at C:\\Users\\Masashi Takahashi\\.julia\\v0.5\\Plots\\src\\plot.jl:52",
      " in (::Plots.#kw##plot)(::Array{Any,1}, ::Plots.#plot, ::FloatRange{Float64}, ::Function, ::Vararg{Function,N}) at .\\<missing>:0"
     ]
    }
   ],
   "source": [
    "plot(grid, li , label=\"linear\")\n",
    "scatter!(grid, vals, label=\"sampled data\", markersize=4)"
   ]
  },
  {
   "cell_type": "code",
   "execution_count": 118,
   "metadata": {
    "collapsed": false
   },
   "outputs": [
    {
     "name": "stderr",
     "output_type": "stream",
     "text": [
      "\u001b[1m\u001b[34mINFO: Computing test dependencies for Interpolations...\n",
      "\u001b[0m\u001b[1m\u001b[34mINFO: Installing OffsetArrays v0.3.0\n",
      "\u001b[0m\u001b[1m\u001b[34mINFO: Testing Interpolations\n",
      "\u001b[0m\u001b[1m\u001b[34mINFO: Interpolations tests passed\n",
      "\u001b[0m\u001b[1m\u001b[34mINFO: Removing OffsetArrays v0.3.0\n",
      "\u001b[0m"
     ]
    }
   ],
   "source": [
    "Pkg.test(\"Interpolations\")"
   ]
  },
  {
   "cell_type": "code",
   "execution_count": null,
   "metadata": {
    "collapsed": true
   },
   "outputs": [],
   "source": []
  }
 ],
 "metadata": {
  "kernelspec": {
   "display_name": "Julia 0.5.1",
   "language": "julia",
   "name": "julia-0.5"
  },
  "language_info": {
   "file_extension": ".jl",
   "mimetype": "application/julia",
   "name": "julia",
   "version": "0.5.1"
  }
 },
 "nbformat": 4,
 "nbformat_minor": 2
}
