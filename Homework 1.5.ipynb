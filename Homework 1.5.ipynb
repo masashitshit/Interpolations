{
 "cells": [
  {
   "cell_type": "code",
   "execution_count": 1,
   "metadata": {
    "collapsed": false
   },
   "outputs": [],
   "source": [
    "#課題1　高橋　雅士　　\n",
    "#関数の定義はこちら　https://github.com/masashitshit/Interpolations.jl/blob/master/src/Interpolations.jl"
   ]
  },
  {
   "cell_type": "code",
   "execution_count": 2,
   "metadata": {
    "collapsed": false
   },
   "outputs": [
    {
     "name": "stderr",
     "output_type": "stream",
     "text": [
      "\u001b[1m\u001b[34mINFO: Cloning Interpolations from https://github.com/masashitshit/Interpolations.jl\n",
      "\u001b[0m"
     ]
    },
    {
     "ename": "LoadError",
     "evalue": "Interpolations already exists",
     "output_type": "error",
     "traceback": [
      "Interpolations already exists",
      "",
      " in clone(::String, ::SubString{String}) at .\\pkg\\entry.jl:193",
      " in clone(::String) at .\\pkg\\entry.jl:221",
      " in (::Base.Pkg.Dir.##2#3{Array{Any,1},Base.Pkg.Entry.#clone,Tuple{String}})() at .\\pkg\\dir.jl:31",
      " in cd(::Base.Pkg.Dir.##2#3{Array{Any,1},Base.Pkg.Entry.#clone,Tuple{String}}, ::String) at .\\file.jl:48",
      " in #cd#1(::Array{Any,1}, ::Function, ::Function, ::String, ::Vararg{Any,N}) at .\\pkg\\dir.jl:31",
      " in clone(::String) at .\\pkg\\pkg.jl:151"
     ]
    }
   ],
   "source": [
    "Pkg.clone(\"https://github.com/masashitshit/Interpolations.jl\")"
   ]
  },
  {
   "cell_type": "code",
   "execution_count": 3,
   "metadata": {
    "collapsed": false
   },
   "outputs": [
    {
     "name": "stderr",
     "output_type": "stream",
     "text": [
      "\u001b[1m\u001b[34mINFO: Checking out Interpolations master...\n",
      "\u001b[0m\u001b[1m\u001b[34mINFO: Pulling Interpolations latest master...\n",
      "\u001b[0m\u001b[1m\u001b[31mWARNING: unknown Interpolations commit 6e02f883, metadata may be ahead of package cache\u001b[0m\n",
      "\u001b[1m\u001b[31mWARNING: unknown Interpolations commit d36fe855, metadata may be ahead of package cache\u001b[0m\n",
      "\u001b[1m\u001b[31mWARNING: unknown Interpolations commit 0ecd53b6, metadata may be ahead of package cache\u001b[0m\n",
      "\u001b[1m\u001b[31mWARNING: unknown Interpolations commit 734f4aac, metadata may be ahead of package cache\u001b[0m\n",
      "\u001b[1m\u001b[31mWARNING: unknown Interpolations commit b67c920f, metadata may be ahead of package cache\u001b[0m\n",
      "\u001b[1m\u001b[31mWARNING: unknown Interpolations commit e2a0380a, metadata may be ahead of package cache\u001b[0m\n",
      "\u001b[1m\u001b[31mWARNING: unknown Interpolations commit 5b8c7c48, metadata may be ahead of package cache\u001b[0m\n",
      "\u001b[1m\u001b[31mWARNING: unknown Interpolations commit b11bdd50, metadata may be ahead of package cache\u001b[0m\n",
      "\u001b[1m\u001b[31mWARNING: unknown Interpolations commit 563d753b, metadata may be ahead of package cache\u001b[0m\n",
      "\u001b[1m\u001b[31mWARNING: unknown Interpolations commit 70e41285, metadata may be ahead of package cache\u001b[0m\n",
      "\u001b[1m\u001b[31mWARNING: unknown Interpolations commit 8c121161, metadata may be ahead of package cache\u001b[0m\n",
      "\u001b[1m\u001b[31mWARNING: unknown Interpolations commit 422a9347, metadata may be ahead of package cache\u001b[0m\n",
      "\u001b[1m\u001b[31mWARNING: unknown Interpolations commit 5511d40b, metadata may be ahead of package cache\u001b[0m\n",
      "\u001b[1m\u001b[31mWARNING: unknown Interpolations commit 716d9b49, metadata may be ahead of package cache\u001b[0m\n",
      "\u001b[1m\u001b[31mWARNING: unknown Interpolations commit 906bac2b, metadata may be ahead of package cache\u001b[0m\n",
      "\u001b[1m\u001b[31mWARNING: unknown Interpolations commit e8464501, metadata may be ahead of package cache\u001b[0m\n",
      "\u001b[1m\u001b[31mWARNING: unknown Interpolations commit 37fee94f, metadata may be ahead of package cache\u001b[0m\n",
      "\u001b[1m\u001b[31mWARNING: unknown Interpolations commit 614f7db7, metadata may be ahead of package cache\u001b[0m\n",
      "\u001b[1m\u001b[31mWARNING: unknown Interpolations commit 7646fe92, metadata may be ahead of package cache\u001b[0m\n",
      "\u001b[1m\u001b[34mINFO: No packages to install, update or remove\n",
      "\u001b[0m"
     ]
    }
   ],
   "source": [
    "Pkg.checkout(\"Interpolations\", \"master\")"
   ]
  },
  {
   "cell_type": "code",
   "execution_count": 4,
   "metadata": {
    "collapsed": false
   },
   "outputs": [
    {
     "name": "stderr",
     "output_type": "stream",
     "text": [
      "\u001b[1m\u001b[34mINFO: Testing Interpolations\n",
      "\u001b[0m\u001b[1m\u001b[31m===========================[ ERROR: Interpolations ]============================\u001b[0m\n",
      "\n",
      "\u001b[1m\u001b[31mfailed process: Process(`'C:\\Users\\Masashi Takahashi\\AppData\\Local\\Julia-0.5.1\\bin\\julia' -Cx86-64 '-JC:\\Users\\Masashi Takahashi\\AppData\\Local\\Julia-0.5.1\\lib\\julia\\sys.dll' --compile=yes --depwarn=yes --check-bounds=yes --code-coverage=none --color=yes --compilecache=yes 'C:\\Users\\Masashi Takahashi\\.julia\\v0.5\\Interpolations\\test\\runtests.jl'`, ProcessExited(1)) [1]\u001b[0m\n",
      "\n",
      "\u001b[1m\u001b[31m================================================================================\u001b[0m\n"
     ]
    },
    {
     "ename": "LoadError",
     "evalue": "Interpolations had test errors",
     "output_type": "error",
     "traceback": [
      "Interpolations had test errors",
      "",
      " in #test#61(::Bool, ::Function, ::Array{AbstractString,1}) at .\\pkg\\entry.jl:749",
      " in (::Base.Pkg.Entry.#kw##test)(::Array{Any,1}, ::Base.Pkg.Entry.#test, ::Array{AbstractString,1}) at .\\<missing>:0",
      " in (::Base.Pkg.Dir.##2#3{Array{Any,1},Base.Pkg.Entry.#test,Tuple{Array{AbstractString,1}}})() at .\\pkg\\dir.jl:31",
      " in cd(::Base.Pkg.Dir.##2#3{Array{Any,1},Base.Pkg.Entry.#test,Tuple{Array{AbstractString,1}}}, ::String) at .\\file.jl:48",
      " in #cd#1(::Array{Any,1}, ::Function, ::Function, ::Array{AbstractString,1}, ::Vararg{Array{AbstractString,1},N}) at .\\pkg\\dir.jl:31",
      " in (::Base.Pkg.Dir.#kw##cd)(::Array{Any,1}, ::Base.Pkg.Dir.#cd, ::Function, ::Array{AbstractString,1}, ::Vararg{Array{AbstractString,1},N}) at .\\<missing>:0",
      " in #test#3(::Bool, ::Function, ::String, ::Vararg{String,N}) at .\\pkg\\pkg.jl:258",
      " in test(::String, ::Vararg{String,N}) at .\\pkg\\pkg.jl:258"
     ]
    }
   ],
   "source": [
    "Pkg.test(\"Interpolations\")"
   ]
  },
  {
   "cell_type": "code",
   "execution_count": 5,
   "metadata": {
    "collapsed": true
   },
   "outputs": [],
   "source": [
    "using Interpolations"
   ]
  },
  {
   "cell_type": "code",
   "execution_count": 6,
   "metadata": {
    "collapsed": false
   },
   "outputs": [
    {
     "data": {
      "text/plain": [
       "15-element Array{Float64,1}:\n",
       " -0.656987\n",
       "  0.279415\n",
       "  0.958924\n",
       "  0.756802\n",
       " -0.14112 \n",
       " -0.909297\n",
       " -0.841471\n",
       "  0.0     \n",
       "  0.841471\n",
       "  0.909297\n",
       "  0.14112 \n",
       " -0.756802\n",
       " -0.958924\n",
       " -0.279415\n",
       "  0.656987"
      ]
     },
     "execution_count": 6,
     "metadata": {},
     "output_type": "execute_result"
    }
   ],
   "source": [
    "grid = -7:7    \n",
    "vals = sin.(grid)  "
   ]
  },
  {
   "cell_type": "code",
   "execution_count": 7,
   "metadata": {
    "collapsed": false
   },
   "outputs": [
    {
     "data": {
      "text/plain": [
       "(::funfun) (generic function with 1 method)"
      ]
     },
     "execution_count": 7,
     "metadata": {},
     "output_type": "execute_result"
    }
   ],
   "source": [
    "li = linerinterp(grid,vals)"
   ]
  },
  {
   "cell_type": "code",
   "execution_count": 8,
   "metadata": {
    "collapsed": false
   },
   "outputs": [
    {
     "data": {
      "text/plain": [
       "0.25244129544236893"
      ]
     },
     "execution_count": 8,
     "metadata": {},
     "output_type": "execute_result"
    }
   ],
   "source": [
    "li(0.3)"
   ]
  },
  {
   "cell_type": "code",
   "execution_count": 9,
   "metadata": {
    "collapsed": false
   },
   "outputs": [
    {
     "data": {
      "text/plain": [
       "141-element Array{Real,1}:\n",
       " -0.656987  \n",
       " -0.563346  \n",
       " -0.469706  \n",
       " -0.376066  \n",
       " -0.282426  \n",
       " -0.188786  \n",
       " -0.0951453 \n",
       " -0.00150513\n",
       "  0.0921351 \n",
       "  0.185775  \n",
       "  0.279415  \n",
       "  0.347366  \n",
       "  0.415317  \n",
       "  ⋮         \n",
       " -0.347366  \n",
       " -0.279415  \n",
       " -0.185775  \n",
       " -0.0921351 \n",
       "  0.00150513\n",
       "  0.0951453 \n",
       "  0.188786  \n",
       "  0.282426  \n",
       "  0.376066  \n",
       "  0.469706  \n",
       "  0.563346  \n",
       "  0         "
      ]
     },
     "execution_count": 9,
     "metadata": {},
     "output_type": "execute_result"
    }
   ],
   "source": [
    "gridf = -7:0.1:7  # fine grid\n",
    "y_linear_qe = li.(gridf)"
   ]
  },
  {
   "cell_type": "code",
   "execution_count": 10,
   "metadata": {
    "collapsed": false
   },
   "outputs": [
    {
     "name": "stderr",
     "output_type": "stream",
     "text": [
      "WARNING: using Plots.grid in module Main conflicts with an existing identifier.\n"
     ]
    }
   ],
   "source": [
    "using Plots"
   ]
  },
  {
   "cell_type": "code",
   "execution_count": 11,
   "metadata": {
    "collapsed": false
   },
   "outputs": [
    {
     "data": {
      "text/html": [
       "<img src=\"data:image/png;base64,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\" />"
      ]
     },
     "execution_count": 11,
     "metadata": {},
     "output_type": "execute_result"
    }
   ],
   "source": [
    "plot(gridf, y_linear_qe, label=\"linear\")\n",
    "scatter!(grid, vals, label=\"sampled data\", markersize=4)"
   ]
  }
 ],
 "metadata": {
  "kernelspec": {
   "display_name": "Julia 0.5.1",
   "language": "julia",
   "name": "julia-0.5"
  },
  "language_info": {
   "file_extension": ".jl",
   "mimetype": "application/julia",
   "name": "julia",
   "version": "0.5.1"
  }
 },
 "nbformat": 4,
 "nbformat_minor": 2
}
